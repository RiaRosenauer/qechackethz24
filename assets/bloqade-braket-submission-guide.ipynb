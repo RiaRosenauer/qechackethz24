{
 "cells": [
  {
   "cell_type": "markdown",
   "id": "ad9bfc77-e133-440c-a429-9d6482a8f409",
   "metadata": {},
   "source": [
    "# Submitting Your Program to *Aquila*"
   ]
  },
  {
   "cell_type": "markdown",
   "id": "9dfd0e61-0655-49da-a34a-0e6996bf5e58",
   "metadata": {},
   "source": [
    "When you feel you've succesfully figured out the geometry and pulse sequence you'd like to try on hardware, you're ready to submit things to *Aquila*!\n",
    "\n",
    "This notebook will serve as a handy guide on how to do just that with an example MIS program taken straight from the [MIS Bloqade Tutorial](https://queracomputing.github.io/bloqade-python-examples/latest/examples/example-5-MIS-UDG/) (The example has been slightly modified from its original form to keep costs as low as possible)"
   ]
  },
  {
   "cell_type": "markdown",
   "id": "ddffe1bf-1f32-469f-968e-2cfe14e0563e",
   "metadata": {},
   "source": [
    "## Amazon Braket Hybrid Jobs\n",
    "\n",
    "You'll submit your Bloqade program as an Amazon Braket Hybrid Job. In this configuration the Bloqade code actually gets submitted to and executed on an AWS EC2 instance (a cloud computing resource) that has the ability to then submit your tasks to *Aquila*. \n",
    "\n",
    "You can then monitor the status of your program in the cloud and when it's complete retrieve the results."
   ]
  },
  {
   "cell_type": "markdown",
   "id": "145744ea-a3be-4e27-acec-91ff841f79f1",
   "metadata": {},
   "source": [
    "## Prerequisites"
   ]
  },
  {
   "cell_type": "markdown",
   "id": "0b3c15ca-36c5-4523-86fa-d2175aa44420",
   "metadata": {},
   "source": [
    "Before submitting things to *Aquila* for this hackathon you'll need to have the \n",
    "following things ready:\n",
    "\n",
    "### Amazon Braket SDK\n",
    "\n",
    "You won't be using this to build your program (that's what Bloqade is for!) but it does provide the tools needed to create hybrid jobs and retrive your results. You can install it via `pip install amazon-braket-sdk`\n",
    "\n",
    "### Credentials\n",
    "\n",
    "Your team should have a QuEra-provided `AWS_ACCESS_KEY_ID` and `AWS_SECRET_ACCESS_KEY` strings. You'll need these to authenticate with your AWS Braket accounts to both submit your program as well as monitor its status on the queue.\n",
    "\n",
    "### `requirements.txt`\n",
    "\n",
    "In order to run your Bloqade program on the cloud, AWS Braket needs some knowledge of the software dependencies required. In this case all you need is Bloqade so create a blank text file with the name `requirements.txt` and put the text `bloqade` in all lower case. Make sure you put this somewhere easily accessible as you'll have to tell the Braket SDK where it's located on your system.\n",
    "\n"
   ]
  },
  {
   "cell_type": "markdown",
   "id": "c86ef610-75ec-4709-9647-b6b554e63004",
   "metadata": {},
   "source": [
    "## The Program"
   ]
  },
  {
   "cell_type": "markdown",
   "id": "24407751-65df-4cc3-b46a-4674ed41f1dd",
   "metadata": {},
   "source": [
    "Let's construct a Bloqade program for solving the MIS:"
   ]
  },
  {
   "cell_type": "code",
   "execution_count": 3,
   "id": "d83d2b07-a5f8-4a30-89cd-caf298372115",
   "metadata": {},
   "outputs": [],
   "source": [
    "from bloqade.atom_arrangement import Square\n",
    "import numpy as np\n",
    "\n",
    "# setting the seed\n",
    "rng = np.random.default_rng(1234)\n",
    "\n",
    "durations = [0.3, 1.6, 0.3]\n",
    "\n",
    "mis_udg_program = (\n",
    "    Square(15, lattice_spacing=5.0)\n",
    "    .apply_defect_density(0.3, rng=rng)\n",
    "    .rydberg.rabi.amplitude.uniform.piecewise_linear(durations, [0.0, 15.0, 15.0, 0.0])\n",
    "    .detuning.uniform.piecewise_linear(\n",
    "        durations, [-30, -30, \"final_detuning\", \"final_detuning\"]\n",
    "    )\n",
    ")\n",
    "\n",
    "mis_udg_job = mis_udg_program.assign(final_detuning=80)"
   ]
  },
  {
   "cell_type": "markdown",
   "id": "d3db14a6-7c8e-4867-aae6-b206f8919cbe",
   "metadata": {},
   "source": [
    "## Submitting the Program"
   ]
  },
  {
   "cell_type": "markdown",
   "id": "86e06847-bf5e-406d-86db-dfcb28ed51e4",
   "metadata": {},
   "source": [
    "Now let's import what we need from the AWS Braket SDK"
   ]
  },
  {
   "cell_type": "code",
   "execution_count": 4,
   "id": "51b4f075-657d-41e6-b7b1-9dbbb3256b8a",
   "metadata": {},
   "outputs": [],
   "source": [
    "from braket.devices import Devices\n",
    "from braket.jobs import hybrid_job"
   ]
  },
  {
   "cell_type": "markdown",
   "id": "7c75378e-2898-4428-86c3-79e955eb51ff",
   "metadata": {},
   "source": [
    "We now need to give the Braket SDK our credentials. The easiest way to do this is to set the proper environment variables. In Jupyter you do it like so: "
   ]
  },
  {
   "cell_type": "code",
   "execution_count": 5,
   "id": "0db1be15-2fca-41d4-8c4b-ee06ecdcb585",
   "metadata": {},
   "outputs": [
    {
     "name": "stdout",
     "output_type": "stream",
     "text": [
      "env: AWS_ACCESS_KEY_ID=YOUR_ACCESS_KEY_ID\n",
      "env: AWS_SECRET_ACCESS_KEY=YOUR_AWS_SECRET_ACCESS_KEY\n",
      "env: AWS_DEFAULT_REGION=us-east-1\n"
     ]
    }
   ],
   "source": [
    "%env AWS_ACCESS_KEY_ID=YOUR_ACCESS_KEY_ID\n",
    "%env AWS_SECRET_ACCESS_KEY=YOUR_AWS_SECRET_ACCESS_KEY\n",
    "%env AWS_DEFAULT_REGION=us-east-1"
   ]
  },
  {
   "cell_type": "markdown",
   "id": "a9b62825-6e02-4e1e-a6f6-e9cdfaad6e49",
   "metadata": {},
   "source": [
    "NOTE: Make sure you have that last environment variable set to `us-east-1`! Otherwise your program will not submit. "
   ]
  },
  {
   "cell_type": "markdown",
   "id": "7e273308-c74c-4619-b29d-7254acdd1103",
   "metadata": {},
   "source": [
    "Now we wrap our program into a function and then decorate the function using the `hybrid_job` decorator. This is where you provide a path to your `requirements.txt` and specify the device the program will submit tasks to.\n",
    "\n",
    "Notice that we are calling `.report` on our program immediately after it runs and returning it from the function. \n",
    "\n",
    "This report is what you will retrieve when the job is done running on the cloud!"
   ]
  },
  {
   "cell_type": "code",
   "execution_count": null,
   "id": "fca1771c-5fec-49b4-b1c4-036926fb922b",
   "metadata": {},
   "outputs": [],
   "source": [
    "@hybrid_job(device=Devices.QuEra.Aquila, dependencies=\"requirements.txt\")\n",
    "def your_job():\n",
    "    return mis_udg_job.braket.aquila().run(100).report()"
   ]
  },
  {
   "cell_type": "markdown",
   "id": "c3d4f73d-ebe5-4966-b6e3-40ad1402aa55",
   "metadata": {},
   "source": [
    "All we have to do now is call the function and save its result. This will submit your program to the cloud to run and give you an `AwsQuantumJob` that you can use to track the status of your job and pull the actual Bloqade results from."
   ]
  },
  {
   "cell_type": "code",
   "execution_count": null,
   "id": "505da1f5-7db6-42c4-adaf-ff73242e0ede",
   "metadata": {},
   "outputs": [],
   "source": [
    "cloud_job = your_job()"
   ]
  },
  {
   "cell_type": "markdown",
   "id": "90258786-75a2-44c6-8367-b7029d4999a9",
   "metadata": {},
   "source": [
    "## Tracking and Getting Results From Your Program"
   ]
  },
  {
   "cell_type": "markdown",
   "id": "f69204a1-3179-4b47-b6f9-c1a8e1042eb0",
   "metadata": {},
   "source": [
    "We can see what the state of your job is (queued, running, completed, etc.) via: "
   ]
  },
  {
   "cell_type": "code",
   "execution_count": null,
   "id": "3ff6b17a-19ba-46c5-a6df-70989e0c9260",
   "metadata": {},
   "outputs": [],
   "source": [
    "cloud_job.state()"
   ]
  },
  {
   "cell_type": "markdown",
   "id": "e678f464-5703-4667-868f-e88c8387e479",
   "metadata": {},
   "source": [
    "You can see the position of your job on the queue via: "
   ]
  },
  {
   "cell_type": "code",
   "execution_count": null,
   "id": "565d3b0a-e0e6-4f23-9b2c-35c30dffec18",
   "metadata": {},
   "outputs": [],
   "source": [
    "cloud_job.queue_position()"
   ]
  },
  {
   "cell_type": "markdown",
   "id": "716d56f5-7d16-4782-92b5-05d9ec962443",
   "metadata": {},
   "source": [
    "As good practice, you should save the ARN (Amazon Resource Number) of your Job so if your notebook runs into problems you can \"rebuild\" the `AwsQuantumJob` object and not lose your progress:"
   ]
  },
  {
   "cell_type": "code",
   "execution_count": null,
   "id": "e0939b6e-d2f6-4b82-8021-b43fe11fec26",
   "metadata": {},
   "outputs": [],
   "source": [
    "job_arn = cloud_job.arn\n",
    "\n",
    "from braket.aws.aws_quantum_job import AwsQuantumJob\n",
    "duplicate_cloud_job = AwsQuantumJob(job_arn)"
   ]
  },
  {
   "cell_type": "markdown",
   "id": "4fb93ec4-846a-4a8f-9a25-bdee4130574a",
   "metadata": {},
   "source": [
    "When you see `cloud_job.state()` is \"COMPLETED\" you can now retrieve your results!"
   ]
  },
  {
   "cell_type": "code",
   "execution_count": null,
   "id": "aa9d2c86-c8d2-4cbf-a4b1-df4f39de8b3d",
   "metadata": {},
   "outputs": [],
   "source": [
    "result_dict = cloud_job.result()\n",
    "report = result_dict[\"result\"]"
   ]
  },
  {
   "cell_type": "markdown",
   "id": "4ab1b9d3-9e75-4a5b-9713-c83114017d5f",
   "metadata": {},
   "source": [
    "Report is a Bloqade object that lets you visualize results, get bitstrings and counts of bitstrings, etc."
   ]
  },
  {
   "cell_type": "code",
   "execution_count": 6,
   "id": "45ff4893-8722-4883-b669-f48ac70f8b13",
   "metadata": {},
   "outputs": [],
   "source": [
    "#report.show()\n",
    "#report.bitstrings()\n",
    "#report.counts()\n",
    "#report.rydberg_densities()\n",
    "#etc..."
   ]
  },
  {
   "cell_type": "markdown",
   "id": "ac3818d3-09bd-4c1d-8c4d-739417853445",
   "metadata": {},
   "source": [
    "You can check out the [Bloqade tutorials](https://queracomputing.github.io/bloqade-python-examples/latest/) for some inspiration on how to do more advanced results analysis too! "
   ]
  }
 ],
 "metadata": {
  "kernelspec": {
   "display_name": "Python 3 (ipykernel)",
   "language": "python",
   "name": "python3"
  },
  "language_info": {
   "codemirror_mode": {
    "name": "ipython",
    "version": 3
   },
   "file_extension": ".py",
   "mimetype": "text/x-python",
   "name": "python",
   "nbconvert_exporter": "python",
   "pygments_lexer": "ipython3",
   "version": "3.10.9"
  }
 },
 "nbformat": 4,
 "nbformat_minor": 5
}
