{
 "cells": [
  {
   "cell_type": "markdown",
   "id": "afdf8e69",
   "metadata": {},
   "source": [
    "<a class=md-button href=\"example-5-MIS-UDG.py\" download> Download Script </a>\n",
    "<a class=md-button href=\"../../assets/data/MIS-UDG-job.json\" download> Download Job </a>\n",
    "\n",
    "<div class=\"admonition warning\"> \n",
    "<p class=\"admonition-title\">Job Files for Complete Examples</p>\n",
    "<p>\n",
    "To be able to run the complete examples without having to submit your program to hardware and wait, you'll\n",
    "need to download the associated job files. These files contain the results of running the program on \n",
    "the quantum hardware. \n",
    "\n",
    "You can download the job files by clicking the \"Download Job\" button above. You'll then need to place\n",
    "the job file in the `data` directory that was created for you when you ran the `import` part of the script \n",
    "(alternatively you can make the directory yourself, it should live at the same level as wherever you put this script).\n",
    "</p> \n",
    "</div>\n"
   ]
  },
  {
   "cell_type": "markdown",
   "id": "8e421c87",
   "metadata": {},
   "source": [
    "# Solving the Maximal Independent Set Problem on defective King Graph\n",
    "## Introduction\n",
    "In this tutorial, we show how to use some of Bloqade's built-in tools to generate a Unit Disk Graph (UDG) and then solve the Maximal Independent Set (MIS) problem on it. This problem is easily expressable on Neutral Atom Hardware via the Rydberg blockade mechanism. We will also use this notebook to cover how to do parameter scans and optimization, although we will not cover hybrid quantum-classical algorithms. "
   ]
  },
  {
   "cell_type": "markdown",
   "id": "2c5dfc5e",
   "metadata": {},
   "source": [
    "## Define the Program.\n",
    "To define random defects on any Bloqade geometry, simply call the `add_defect_density`\n",
    "or `add_defect_count` methods on the geometry object. The `add_defect_density` method\n",
    "takes a float between 0 and 1 and uses that as the probability of a site being a\n",
    "defect. The `add_defect_count` method takes the number of defects to add to the\n",
    "geometry placed in random locations. Both ways take an  optional `rng` argument,\n",
    "a numpy random number generator. If no `rng` argument is provided, then the default\n",
    "numpy random number generator is used. Using the random number generator allows you\n",
    "to set the seed for reproducibility. After that, defining the pulse sequence is the\n",
    "same as in the previous tutorials."
   ]
  },
  {
   "cell_type": "code",
   "execution_count": null,
   "id": "46341887",
   "metadata": {},
   "outputs": [],
   "source": [
    "from bloqade import load, save\n",
    "from bloqade.atom_arrangement import Square\n",
    "import numpy as np\n",
    "import os\n",
    "import matplotlib.pyplot as plt\n",
    "\n",
    "if not os.path.isdir(\"data\"):\n",
    "    os.mkdir(\"data\")\n",
    "\n",
    "# setting the seed\n",
    "rng = np.random.default_rng(1234)\n",
    "\n",
    "durations = [0.3, 1.6, 0.3]\n",
    "\n",
    "mis_udg_program = (\n",
    "    Square(15, lattice_spacing=5.0)\n",
    "    .apply_defect_density(0.3, rng=rng)\n",
    "    .rydberg.rabi.amplitude.uniform.piecewise_linear(durations, [0.0, 15.0, 15.0, 0.0])\n",
    "    .detuning.uniform.piecewise_linear(\n",
    "        durations, [-30, -30, \"final_detuning\", \"final_detuning\"]\n",
    "    )\n",
    ")\n",
    "\n",
    "mis_udg_job = mis_udg_program.batch_assign(final_detuning=np.linspace(0, 80, 41))"
   ]
  },
  {
   "cell_type": "markdown",
   "id": "bde477a8",
   "metadata": {},
   "source": [
    "## Run On Hardware\n",
    "We can't run on our emulators because the program size is too large. Instead\n",
    "we will run on hardware."
   ]
  },
  {
   "cell_type": "code",
   "execution_count": null,
   "id": "998c10aa",
   "metadata": {},
   "outputs": [],
   "source": [
    "filename = os.path.join(os.path.abspath(\"\"), \"data\", \"MIS-UDG-job.json\")\n",
    "\n",
    "if not os.path.isfile(filename):\n",
    "    hw_batch = mis_udg_job.braket.aquila().run_async(shots=100)\n",
    "    save(hw_batch, filename)"
   ]
  },
  {
   "cell_type": "markdown",
   "id": "d633b9a4",
   "metadata": {},
   "source": [
    "## Plot Results\n",
    "Here, the total number of Rydberg excitations is plotted as a function of the final\n",
    "detuning. The total number of Rydberg excitations is a proxy for the largest\n",
    "independent set size because the number of violations to the Rydberg blockade is and\n",
    "will not scale with the size of the independent set. We start by loading the results"
   ]
  },
  {
   "cell_type": "code",
   "execution_count": null,
   "id": "24e9c237",
   "metadata": {},
   "outputs": [],
   "source": [
    "\n",
    "batch = load(filename)\n",
    "# batch.fetch()\n",
    "# save(filename, batch)"
   ]
  },
  {
   "cell_type": "markdown",
   "id": "a9a52a35",
   "metadata": {},
   "source": [
    "The report object already has a method to calculate the Rydberg densities. We can\n",
    "use this to calculate the average total Rydberg density for each final detuning.\n",
    "then, we can plot the results."
   ]
  },
  {
   "cell_type": "code",
   "execution_count": null,
   "id": "463c8bf6",
   "metadata": {},
   "outputs": [],
   "source": [
    "\n",
    "report = batch.report()\n",
    "\n",
    "average_rydberg_excitation = report.rydberg_densities(filter_perfect_filling=False).sum(\n",
    "    axis=1\n",
    ")\n",
    "final_detunings = report.list_param(\"final_detuning\")\n",
    "\n",
    "plt.plot(final_detunings, average_rydberg_excitation, color=\"#6437FF\")\n",
    "plt.xlabel(\"final detuning (rad/µs)\")\n",
    "plt.ylabel(\"total rydberg excitations\")\n",
    "plt.show()"
   ]
  }
 ],
 "metadata": {
  "jupytext": {
   "formats": "ipynb,py:percent",
   "hide_notebook_metadata": false
  },
  "kernelspec": {
   "display_name": ".venv",
   "language": "python",
   "name": "python3"
  }
 },
 "nbformat": 4,
 "nbformat_minor": 5
}
